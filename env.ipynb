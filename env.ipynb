{
 "cells": [
  {
   "cell_type": "code",
   "execution_count": 6,
   "metadata": {},
   "outputs": [
    {
     "name": "stdout",
     "output_type": "stream",
     "text": [
      "((1, 'California'), (2, 'Arizona'), (3, 'Texas'), (4, 'New York'), (5, 'Nevada'))\n",
      "(1, 'California')\n",
      "(2, 'Arizona')\n",
      "(3, 'Texas')\n",
      "(4, 'New York')\n",
      "(5, 'Nevada')\n"
     ]
    }
   ],
   "source": [
    "import MySQLdb\n",
    "\n",
    "host = \"mysql-320d010-rahimdaud246-8d4e.a.aivencloud.com\"\n",
    "port = 21332\n",
    "username = \"avnadmin\"\n",
    "password = \"AVNS_PXkwQiODoam15JJkch0\"\n",
    "database = \"hbtn_0e_0_usa\"\n",
    "\n",
    "conn = MySQLdb.connect(host, username, password, database, port)\n",
    "\n",
    "cur = conn.cursor()\n",
    "\n",
    "cur.execute(\"SELECT * FROM states ORDER BY id ASC\")\n",
    "\n",
    "states = cur.fetchall()\n",
    "for state in states:\n",
    "\tprint(state)"
   ]
  }
 ],
 "metadata": {
  "kernelspec": {
   "display_name": "Python 3",
   "language": "python",
   "name": "python3"
  },
  "language_info": {
   "codemirror_mode": {
    "name": "ipython",
    "version": 3
   },
   "file_extension": ".py",
   "mimetype": "text/x-python",
   "name": "python",
   "nbconvert_exporter": "python",
   "pygments_lexer": "ipython3",
   "version": "3.11.6"
  }
 },
 "nbformat": 4,
 "nbformat_minor": 2
}
