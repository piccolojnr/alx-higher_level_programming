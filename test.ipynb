{
 "cells": [
  {
   "cell_type": "code",
   "execution_count": 32,
   "metadata": {},
   "outputs": [
    {
     "name": "stdout",
     "output_type": "stream",
     "text": [
      "I 1\n",
      "I X 9\n",
      "9\n"
     ]
    }
   ],
   "source": [
    "roman_string = \"IX\"\n",
    "RM = {\"I\": 1, \"V\": 5, \"X\": 10, \"L\": 50,\"C\":100, \"D\": 500, \"M\": 1000}\n",
    "res = 0\n",
    "\n",
    "for i in range(len(roman_string)):\n",
    "    if i<len(roman_string) and i!=0:\n",
    "        tmp1 = RM[roman_string[i-1]]\n",
    "        tmp2 = RM[roman_string[i]]\n",
    "        if tmp1<tmp2:\n",
    "            res -= tmp1\n",
    "            res += tmp2-tmp1\n",
    "        else:\n",
    "            res += tmp2\n",
    "        print(roman_string[i-1],roman_string[i],res)\n",
    "    else:\n",
    "        tmp1 = RM[roman_string[i]]\n",
    "        res += tmp1\n",
    "        print(roman_string[i], res)\n",
    "\n",
    "\n",
    "\n",
    "print(res)\n"
   ]
  }
 ],
 "metadata": {
  "kernelspec": {
   "display_name": "Python 3",
   "language": "python",
   "name": "python3"
  },
  "language_info": {
   "codemirror_mode": {
    "name": "ipython",
    "version": 3
   },
   "file_extension": ".py",
   "mimetype": "text/x-python",
   "name": "python",
   "nbconvert_exporter": "python",
   "pygments_lexer": "ipython3",
   "version": "3.10.12"
  }
 },
 "nbformat": 4,
 "nbformat_minor": 2
}
